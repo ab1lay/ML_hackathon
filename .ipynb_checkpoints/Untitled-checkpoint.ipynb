{
 "cells": [
  {
   "cell_type": "code",
   "execution_count": 8,
   "id": "ea7578e7",
   "metadata": {},
   "outputs": [],
   "source": [
    "import pandas as pd\n",
    "import numpy as np\n",
    "from sklearn.model_selection import train_test_split\n",
    "from xgboost import XGBRegressor\n",
    "from sklearn.preprocessing import OneHotEncoder\n",
    "import math"
   ]
  },
  {
   "cell_type": "code",
   "execution_count": 12,
   "id": "8c233279",
   "metadata": {},
   "outputs": [],
   "source": [
    "idf['condition'].unique()\n",
    "conditions = {\n",
    "    'terrible' : math.e,\n",
    "    'bad' : math.e ** 2,\n",
    "    'medium' : math.e ** 6,\n",
    "    'good' : math.e ** 10, \n",
    "    'excellent': math.e ** 13\n",
    "}"
   ]
  },
  {
   "cell_type": "code",
   "execution_count": 47,
   "id": "004ca925",
   "metadata": {},
   "outputs": [
    {
     "data": {
      "text/plain": [
       "array([5.89610538e+05, 3.05714591e+06, 4.01723007e+05, ...,\n",
       "       3.98973770e+02, 6.29977807e+02, 9.25743669e+02])"
      ]
     },
     "execution_count": 47,
     "metadata": {},
     "output_type": "execute_result"
    }
   ],
   "source": []
  },
  {
   "cell_type": "code",
   "execution_count": 45,
   "id": "4709a6f8",
   "metadata": {},
   "outputs": [],
   "source": [
    "cnt = 0\n",
    "for index, row in idf.iterrows():\n",
    "    try:\n",
    "        k = conditions[row['condition']] * row['condition_percentage'] / 100.0\n",
    "        df.at[df[df['kv_id'] == row['kv_id']].index[0], 'condition'] += k\n",
    "    except:\n",
    "        pass"
   ]
  },
  {
   "cell_type": "code",
   "execution_count": 19,
   "id": "3efede83",
   "metadata": {},
   "outputs": [],
   "source": [
    "df = pd.read_csv('almaty.csv')"
   ]
  },
  {
   "cell_type": "code",
   "execution_count": 48,
   "id": "cdbc3862",
   "metadata": {},
   "outputs": [],
   "source": [
    "cols = ['toilet_type_code', 'door_type_code', 'internet_type_code', 'parking_type_code', 'floor_type_code', 'building_type_code', 'renovation_type_code', 'balcony_type_code', 'furniture_type_code', 'phone_type_code', 'district_code', 'town_code', 'area_code']"
   ]
  },
  {
   "cell_type": "code",
   "execution_count": 49,
   "id": "7342375e",
   "metadata": {},
   "outputs": [],
   "source": [
    "df['is_72025'].fillna(0.0, inplace=True)\n",
    "df['is_mortgage'].fillna(0.0, inplace=True)\n",
    "df['is_installment'].fillna(0.0, inplace=True)\n",
    "df['is_pledged'].fillna(0.0, inplace=True)\n",
    "df['celling_height'].fillna(df['celling_height'].mode()[0], inplace=True)\n",
    "df['is_priv_hostel'].fillna(0.0, inplace=True)\n",
    "df['built_year'].fillna(df['built_year'].median(), inplace=True)\n",
    "df = df.drop(['microdistrict_code'], axis=1)\n",
    "df['kitchen_square_m'].fillna(df['kitchen_square_m'].mode()[0], inplace=True)\n",
    "df['floor_lvl'].fillna(df['floor_lvl'].median(), inplace=True)\n",
    "df['floor_cnt'].fillna(df['floor_cnt'].median(), inplace=True)\n",
    "\n",
    "for col in cols:\n",
    "    df[col].fillna(df[col].mode()[0], inplace=True)\n",
    "df = df[df['district_code'] != 'Алматы р-н']"
   ]
  },
  {
   "cell_type": "code",
   "execution_count": 67,
   "id": "ef664176",
   "metadata": {},
   "outputs": [
    {
     "name": "stdout",
     "output_type": "stream",
     "text": [
      "<class 'pandas.core.frame.DataFrame'>\n",
      "Int64Index: 21737 entries, 1 to 21737\n",
      "Data columns (total 42 columns):\n",
      " #   Column                Non-Null Count  Dtype  \n",
      "---  ------                --------------  -----  \n",
      " 0   Unnamed: 0            21737 non-null  int64  \n",
      " 1   longitude             21737 non-null  float64\n",
      " 2   latitude              21737 non-null  float64\n",
      " 3   kv_id                 21737 non-null  float64\n",
      " 4   price                 21737 non-null  float64\n",
      " 5   room_cnt              21737 non-null  float64\n",
      " 6   is_72025              21737 non-null  float64\n",
      " 7   is_mortgage           21737 non-null  float64\n",
      " 8   is_installment        21737 non-null  float64\n",
      " 9   is_pledged            21737 non-null  float64\n",
      " 10  toilet_type_code      21737 non-null  object \n",
      " 11  door_type_code        21737 non-null  object \n",
      " 12  internet_type_code    21737 non-null  object \n",
      " 13  parking_type_code     21737 non-null  object \n",
      " 14  floor_type_code       21737 non-null  object \n",
      " 15  celling_height        21737 non-null  float64\n",
      " 16  is_priv_hostel        21737 non-null  float64\n",
      " 17  building_type_code    21737 non-null  object \n",
      " 18  renovation_type_code  21737 non-null  object \n",
      " 19  built_year            21737 non-null  float64\n",
      " 20  balcony_type_code     21737 non-null  object \n",
      " 21  is_balcony_glasses    21737 non-null  float64\n",
      " 22  furniture_type_code   21737 non-null  object \n",
      " 23  phone_type_code       21737 non-null  object \n",
      " 24  town_code             21737 non-null  object \n",
      " 25  area_code             21737 non-null  object \n",
      " 26  district_code         21737 non-null  object \n",
      " 27  all_square_m          21737 non-null  float64\n",
      " 28  kitchen_square_m      21737 non-null  float64\n",
      " 29  is_intercom           21737 non-null  float64\n",
      " 30  is_video              21737 non-null  float64\n",
      " 31  is_secure             21737 non-null  float64\n",
      " 32  is_coded_lock         21737 non-null  float64\n",
      " 33  is_window_bars        21737 non-null  float64\n",
      " 34  is_video_intercom     21737 non-null  float64\n",
      " 35  is_alarm              21737 non-null  float64\n",
      " 36  is_door_man           21737 non-null  float64\n",
      " 37  floor_lvl             21737 non-null  float64\n",
      " 38  floor_cnt             21737 non-null  float64\n",
      " 39  is_rough              21737 non-null  float64\n",
      " 40  is_new_building       21737 non-null  float64\n",
      " 41  condition             21737 non-null  float64\n",
      "dtypes: float64(28), int64(1), object(13)\n",
      "memory usage: 7.1+ MB\n"
     ]
    }
   ],
   "source": [
    "df.info()"
   ]
  },
  {
   "cell_type": "code",
   "execution_count": 75,
   "id": "fa39b521",
   "metadata": {},
   "outputs": [
    {
     "name": "stderr",
     "output_type": "stream",
     "text": [
      "C:\\Users\\molda\\AppData\\Local\\Programs\\Python\\Python311\\Lib\\site-packages\\sklearn\\preprocessing\\_encoders.py:828: FutureWarning: `sparse` was renamed to `sparse_output` in version 1.2 and will be removed in 1.4. `sparse_output` is ignored unless you leave `sparse` to its default value.\n",
      "  warnings.warn(\n",
      "C:\\Users\\molda\\AppData\\Local\\Programs\\Python\\Python311\\Lib\\site-packages\\sklearn\\preprocessing\\_encoders.py:828: FutureWarning: `sparse` was renamed to `sparse_output` in version 1.2 and will be removed in 1.4. `sparse_output` is ignored unless you leave `sparse` to its default value.\n",
      "  warnings.warn(\n"
     ]
    }
   ],
   "source": [
    "OH_encoder = OneHotEncoder(handle_unknown='ignore', sparse=False)\n",
    "\n",
    "OH_X_train = X_train.drop(cols, axis=1)\n",
    "train_cols = pd.DataFrame(OH_encoder.fit_transform(X_train[cols]))\n",
    "train_cols.index = X_train.index\n",
    "OH_X_train = pd.concat([OH_X_train, train_cols], axis=1)\n",
    "\n",
    "OH_X_test = X_test.drop(cols, axis=1)\n",
    "test_cols = pd.DataFrame(OH_encoder.fit_transform(X_test[cols]))\n",
    "test_cols.index = X_test.index\n",
    "OH_X_test = pd.concat([OH_X_test, test_cols], axis=1)"
   ]
  },
  {
   "cell_type": "code",
   "execution_count": 74,
   "id": "e6715218",
   "metadata": {},
   "outputs": [],
   "source": [
    "X = df.drop(['price', 'kv_id', 'Unnamed: 0'], axis=1)\n",
    "y = df['price']\n",
    "X_train, X_test, y_train, y_test = train_test_split(X, y, test_size=0.3, random_state=7)"
   ]
  },
  {
   "cell_type": "code",
   "execution_count": 77,
   "id": "6982a2af",
   "metadata": {},
   "outputs": [
    {
     "data": {
      "text/plain": [
       "9.150538003385158"
      ]
     },
     "execution_count": 77,
     "metadata": {},
     "output_type": "execute_result"
    }
   ],
   "source": [
    "model = XGBRegressor(n_estimators=3000, learning_rate=0.05)\n",
    "model.fit(OH_X_train, y_train)\n",
    "preds = model.predict(OH_X_test)\n",
    "def mape(actual, pred): \n",
    "    actual, pred = np.array(actual), np.array(pred)\n",
    "    return np.mean(np.abs((actual - pred) / actual)) * 100\n",
    "mape(y_test, preds)"
   ]
  },
  {
   "cell_type": "code",
   "execution_count": 79,
   "id": "8abdf2d6",
   "metadata": {},
   "outputs": [],
   "source": [
    "from sklearn.model_selection import cross_val_score"
   ]
  },
  {
   "cell_type": "code",
   "execution_count": 82,
   "id": "d734c84e",
   "metadata": {},
   "outputs": [
    {
     "name": "stderr",
     "output_type": "stream",
     "text": [
      "C:\\Users\\molda\\AppData\\Local\\Programs\\Python\\Python311\\Lib\\site-packages\\sklearn\\preprocessing\\_encoders.py:828: FutureWarning: `sparse` was renamed to `sparse_output` in version 1.2 and will be removed in 1.4. `sparse_output` is ignored unless you leave `sparse` to its default value.\n",
      "  warnings.warn(\n"
     ]
    }
   ],
   "source": [
    "OH_X = X.drop(cols, axis=1)\n",
    "train_cols = pd.DataFrame(OH_encoder.fit_transform(X[cols]))\n",
    "train_cols.index = X.index\n",
    "OH_X = pd.concat([OH_X, train_cols], axis=1)"
   ]
  },
  {
   "cell_type": "code",
   "execution_count": 86,
   "id": "77141ad1",
   "metadata": {},
   "outputs": [
    {
     "data": {
      "text/plain": [
       "['accuracy',\n",
       " 'adjusted_mutual_info_score',\n",
       " 'adjusted_rand_score',\n",
       " 'average_precision',\n",
       " 'balanced_accuracy',\n",
       " 'completeness_score',\n",
       " 'explained_variance',\n",
       " 'f1',\n",
       " 'f1_macro',\n",
       " 'f1_micro',\n",
       " 'f1_samples',\n",
       " 'f1_weighted',\n",
       " 'fowlkes_mallows_score',\n",
       " 'homogeneity_score',\n",
       " 'jaccard',\n",
       " 'jaccard_macro',\n",
       " 'jaccard_micro',\n",
       " 'jaccard_samples',\n",
       " 'jaccard_weighted',\n",
       " 'matthews_corrcoef',\n",
       " 'max_error',\n",
       " 'mutual_info_score',\n",
       " 'neg_brier_score',\n",
       " 'neg_log_loss',\n",
       " 'neg_mean_absolute_error',\n",
       " 'neg_mean_absolute_percentage_error',\n",
       " 'neg_mean_gamma_deviance',\n",
       " 'neg_mean_poisson_deviance',\n",
       " 'neg_mean_squared_error',\n",
       " 'neg_mean_squared_log_error',\n",
       " 'neg_median_absolute_error',\n",
       " 'neg_negative_likelihood_ratio',\n",
       " 'neg_root_mean_squared_error',\n",
       " 'normalized_mutual_info_score',\n",
       " 'positive_likelihood_ratio',\n",
       " 'precision',\n",
       " 'precision_macro',\n",
       " 'precision_micro',\n",
       " 'precision_samples',\n",
       " 'precision_weighted',\n",
       " 'r2',\n",
       " 'rand_score',\n",
       " 'recall',\n",
       " 'recall_macro',\n",
       " 'recall_micro',\n",
       " 'recall_samples',\n",
       " 'recall_weighted',\n",
       " 'roc_auc',\n",
       " 'roc_auc_ovo',\n",
       " 'roc_auc_ovo_weighted',\n",
       " 'roc_auc_ovr',\n",
       " 'roc_auc_ovr_weighted',\n",
       " 'top_k_accuracy',\n",
       " 'v_measure_score']"
      ]
     },
     "execution_count": 86,
     "metadata": {},
     "output_type": "execute_result"
    }
   ],
   "source": [
    "import sklearn.metrics\n",
    "sklearn.metrics.get_scorer_names() "
   ]
  },
  {
   "cell_type": "code",
   "execution_count": 87,
   "id": "534217ba",
   "metadata": {},
   "outputs": [],
   "source": [
    "model = XGBRegressor(n_estimators=3000, learning_rate=0.05)\n",
    "scores = cross_val_score(model, OH_X, y, cv=5, scoring='neg_mean_absolute_percentage_error')"
   ]
  },
  {
   "cell_type": "code",
   "execution_count": 90,
   "id": "3c117382",
   "metadata": {},
   "outputs": [
    {
     "data": {
      "text/plain": [
       "9.089410031986796"
      ]
     },
     "execution_count": 90,
     "metadata": {},
     "output_type": "execute_result"
    }
   ],
   "source": [
    "(- 100 * scores).mean()"
   ]
  },
  {
   "cell_type": "code",
   "execution_count": 96,
   "id": "e37eb3f3",
   "metadata": {},
   "outputs": [
    {
     "data": {
      "text/plain": [
       "(3196, 39)"
      ]
     },
     "execution_count": 96,
     "metadata": {},
     "output_type": "execute_result"
    }
   ],
   "source": [
    "sz = int(X.shape[0] * 0.7)\n",
    "X, y, X_val, y_val = X[:sz], y[:sz], X[sz:], y[sz:] "
   ]
  },
  {
   "cell_type": "code",
   "execution_count": 97,
   "id": "228072ef",
   "metadata": {},
   "outputs": [
    {
     "name": "stderr",
     "output_type": "stream",
     "text": [
      "C:\\Users\\molda\\AppData\\Local\\Programs\\Python\\Python311\\Lib\\site-packages\\sklearn\\preprocessing\\_encoders.py:828: FutureWarning: `sparse` was renamed to `sparse_output` in version 1.2 and will be removed in 1.4. `sparse_output` is ignored unless you leave `sparse` to its default value.\n",
      "  warnings.warn(\n",
      "C:\\Users\\molda\\AppData\\Local\\Programs\\Python\\Python311\\Lib\\site-packages\\sklearn\\preprocessing\\_encoders.py:828: FutureWarning: `sparse` was renamed to `sparse_output` in version 1.2 and will be removed in 1.4. `sparse_output` is ignored unless you leave `sparse` to its default value.\n",
      "  warnings.warn(\n"
     ]
    },
    {
     "data": {
      "text/html": [
       "<style>#sk-container-id-2 {color: black;background-color: white;}#sk-container-id-2 pre{padding: 0;}#sk-container-id-2 div.sk-toggleable {background-color: white;}#sk-container-id-2 label.sk-toggleable__label {cursor: pointer;display: block;width: 100%;margin-bottom: 0;padding: 0.3em;box-sizing: border-box;text-align: center;}#sk-container-id-2 label.sk-toggleable__label-arrow:before {content: \"▸\";float: left;margin-right: 0.25em;color: #696969;}#sk-container-id-2 label.sk-toggleable__label-arrow:hover:before {color: black;}#sk-container-id-2 div.sk-estimator:hover label.sk-toggleable__label-arrow:before {color: black;}#sk-container-id-2 div.sk-toggleable__content {max-height: 0;max-width: 0;overflow: hidden;text-align: left;background-color: #f0f8ff;}#sk-container-id-2 div.sk-toggleable__content pre {margin: 0.2em;color: black;border-radius: 0.25em;background-color: #f0f8ff;}#sk-container-id-2 input.sk-toggleable__control:checked~div.sk-toggleable__content {max-height: 200px;max-width: 100%;overflow: auto;}#sk-container-id-2 input.sk-toggleable__control:checked~label.sk-toggleable__label-arrow:before {content: \"▾\";}#sk-container-id-2 div.sk-estimator input.sk-toggleable__control:checked~label.sk-toggleable__label {background-color: #d4ebff;}#sk-container-id-2 div.sk-label input.sk-toggleable__control:checked~label.sk-toggleable__label {background-color: #d4ebff;}#sk-container-id-2 input.sk-hidden--visually {border: 0;clip: rect(1px 1px 1px 1px);clip: rect(1px, 1px, 1px, 1px);height: 1px;margin: -1px;overflow: hidden;padding: 0;position: absolute;width: 1px;}#sk-container-id-2 div.sk-estimator {font-family: monospace;background-color: #f0f8ff;border: 1px dotted black;border-radius: 0.25em;box-sizing: border-box;margin-bottom: 0.5em;}#sk-container-id-2 div.sk-estimator:hover {background-color: #d4ebff;}#sk-container-id-2 div.sk-parallel-item::after {content: \"\";width: 100%;border-bottom: 1px solid gray;flex-grow: 1;}#sk-container-id-2 div.sk-label:hover label.sk-toggleable__label {background-color: #d4ebff;}#sk-container-id-2 div.sk-serial::before {content: \"\";position: absolute;border-left: 1px solid gray;box-sizing: border-box;top: 0;bottom: 0;left: 50%;z-index: 0;}#sk-container-id-2 div.sk-serial {display: flex;flex-direction: column;align-items: center;background-color: white;padding-right: 0.2em;padding-left: 0.2em;position: relative;}#sk-container-id-2 div.sk-item {position: relative;z-index: 1;}#sk-container-id-2 div.sk-parallel {display: flex;align-items: stretch;justify-content: center;background-color: white;position: relative;}#sk-container-id-2 div.sk-item::before, #sk-container-id-2 div.sk-parallel-item::before {content: \"\";position: absolute;border-left: 1px solid gray;box-sizing: border-box;top: 0;bottom: 0;left: 50%;z-index: -1;}#sk-container-id-2 div.sk-parallel-item {display: flex;flex-direction: column;z-index: 1;position: relative;background-color: white;}#sk-container-id-2 div.sk-parallel-item:first-child::after {align-self: flex-end;width: 50%;}#sk-container-id-2 div.sk-parallel-item:last-child::after {align-self: flex-start;width: 50%;}#sk-container-id-2 div.sk-parallel-item:only-child::after {width: 0;}#sk-container-id-2 div.sk-dashed-wrapped {border: 1px dashed gray;margin: 0 0.4em 0.5em 0.4em;box-sizing: border-box;padding-bottom: 0.4em;background-color: white;}#sk-container-id-2 div.sk-label label {font-family: monospace;font-weight: bold;display: inline-block;line-height: 1.2em;}#sk-container-id-2 div.sk-label-container {text-align: center;}#sk-container-id-2 div.sk-container {/* jupyter's `normalize.less` sets `[hidden] { display: none; }` but bootstrap.min.css set `[hidden] { display: none !important; }` so we also need the `!important` here to be able to override the default hidden behavior on the sphinx rendered scikit-learn.org. See: https://github.com/scikit-learn/scikit-learn/issues/21755 */display: inline-block !important;position: relative;}#sk-container-id-2 div.sk-text-repr-fallback {display: none;}</style><div id=\"sk-container-id-2\" class=\"sk-top-container\"><div class=\"sk-text-repr-fallback\"><pre>XGBRegressor(base_score=None, booster=None, callbacks=None,\n",
       "             colsample_bylevel=None, colsample_bynode=None,\n",
       "             colsample_bytree=None, early_stopping_rounds=None,\n",
       "             enable_categorical=False, eval_metric=None, feature_types=None,\n",
       "             gamma=None, gpu_id=None, grow_policy=None, importance_type=None,\n",
       "             interaction_constraints=None, learning_rate=0.05, max_bin=None,\n",
       "             max_cat_threshold=None, max_cat_to_onehot=None,\n",
       "             max_delta_step=None, max_depth=None, max_leaves=None,\n",
       "             min_child_weight=None, missing=nan, monotone_constraints=None,\n",
       "             n_estimators=3000, n_jobs=None, num_parallel_tree=None,\n",
       "             predictor=None, random_state=None, ...)</pre><b>In a Jupyter environment, please rerun this cell to show the HTML representation or trust the notebook. <br />On GitHub, the HTML representation is unable to render, please try loading this page with nbviewer.org.</b></div><div class=\"sk-container\" hidden><div class=\"sk-item\"><div class=\"sk-estimator sk-toggleable\"><input class=\"sk-toggleable__control sk-hidden--visually\" id=\"sk-estimator-id-2\" type=\"checkbox\" checked><label for=\"sk-estimator-id-2\" class=\"sk-toggleable__label sk-toggleable__label-arrow\">XGBRegressor</label><div class=\"sk-toggleable__content\"><pre>XGBRegressor(base_score=None, booster=None, callbacks=None,\n",
       "             colsample_bylevel=None, colsample_bynode=None,\n",
       "             colsample_bytree=None, early_stopping_rounds=None,\n",
       "             enable_categorical=False, eval_metric=None, feature_types=None,\n",
       "             gamma=None, gpu_id=None, grow_policy=None, importance_type=None,\n",
       "             interaction_constraints=None, learning_rate=0.05, max_bin=None,\n",
       "             max_cat_threshold=None, max_cat_to_onehot=None,\n",
       "             max_delta_step=None, max_depth=None, max_leaves=None,\n",
       "             min_child_weight=None, missing=nan, monotone_constraints=None,\n",
       "             n_estimators=3000, n_jobs=None, num_parallel_tree=None,\n",
       "             predictor=None, random_state=None, ...)</pre></div></div></div></div></div>"
      ],
      "text/plain": [
       "XGBRegressor(base_score=None, booster=None, callbacks=None,\n",
       "             colsample_bylevel=None, colsample_bynode=None,\n",
       "             colsample_bytree=None, early_stopping_rounds=None,\n",
       "             enable_categorical=False, eval_metric=None, feature_types=None,\n",
       "             gamma=None, gpu_id=None, grow_policy=None, importance_type=None,\n",
       "             interaction_constraints=None, learning_rate=0.05, max_bin=None,\n",
       "             max_cat_threshold=None, max_cat_to_onehot=None,\n",
       "             max_delta_step=None, max_depth=None, max_leaves=None,\n",
       "             min_child_weight=None, missing=nan, monotone_constraints=None,\n",
       "             n_estimators=3000, n_jobs=None, num_parallel_tree=None,\n",
       "             predictor=None, random_state=None, ...)"
      ]
     },
     "execution_count": 97,
     "metadata": {},
     "output_type": "execute_result"
    }
   ],
   "source": [
    "X_train, X_test, y_train, y_test = train_test_split(X, y, test_size=0.3, random_state=7)\n",
    "OH_encoder = OneHotEncoder(handle_unknown='ignore', sparse=False)\n",
    "\n",
    "OH_X_train = X_train.drop(cols, axis=1)\n",
    "train_cols = pd.DataFrame(OH_encoder.fit_transform(X_train[cols]))\n",
    "train_cols.index = X_train.index\n",
    "OH_X_train = pd.concat([OH_X_train, train_cols], axis=1)\n",
    "\n",
    "OH_X_test = X_test.drop(cols, axis=1)\n",
    "test_cols = pd.DataFrame(OH_encoder.fit_transform(X_test[cols]))\n",
    "test_cols.index = X_test.index\n",
    "OH_X_test = pd.concat([OH_X_test, test_cols], axis=1)\n",
    "model = XGBRegressor(n_estimators=3000, learning_rate=0.05)\n",
    "model.fit(OH_X_train, y_train)"
   ]
  },
  {
   "cell_type": "code",
   "execution_count": 98,
   "id": "9c88260d",
   "metadata": {},
   "outputs": [],
   "source": [
    "val_pred = model.predict(OH_X_test)\n",
    "val_loss = mape(y_test, val_pred)"
   ]
  },
  {
   "cell_type": "code",
   "execution_count": 100,
   "id": "6c758236",
   "metadata": {},
   "outputs": [
    {
     "name": "stdout",
     "output_type": "stream",
     "text": [
      "<class 'pandas.core.frame.DataFrame'>\n",
      "Int64Index: 3196 entries, 7455 to 10650\n",
      "Data columns (total 76 columns):\n",
      " #   Column              Non-Null Count  Dtype  \n",
      "---  ------              --------------  -----  \n",
      " 0   longitude           3196 non-null   float64\n",
      " 1   latitude            3196 non-null   float64\n",
      " 2   room_cnt            3196 non-null   float64\n",
      " 3   is_72025            3196 non-null   float64\n",
      " 4   is_mortgage         3196 non-null   float64\n",
      " 5   is_installment      3196 non-null   float64\n",
      " 6   is_pledged          3196 non-null   float64\n",
      " 7   celling_height      3196 non-null   float64\n",
      " 8   is_priv_hostel      3196 non-null   float64\n",
      " 9   built_year          3196 non-null   float64\n",
      " 10  is_balcony_glasses  3196 non-null   float64\n",
      " 11  all_square_m        3196 non-null   float64\n",
      " 12  kitchen_square_m    3196 non-null   float64\n",
      " 13  is_intercom         3196 non-null   float64\n",
      " 14  is_video            3196 non-null   float64\n",
      " 15  is_secure           3196 non-null   float64\n",
      " 16  is_coded_lock       3196 non-null   float64\n",
      " 17  is_window_bars      3196 non-null   float64\n",
      " 18  is_video_intercom   3196 non-null   float64\n",
      " 19  is_alarm            3196 non-null   float64\n",
      " 20  is_door_man         3196 non-null   float64\n",
      " 21  floor_lvl           3196 non-null   float64\n",
      " 22  floor_cnt           3196 non-null   float64\n",
      " 23  is_rough            3196 non-null   float64\n",
      " 24  is_new_building     3196 non-null   float64\n",
      " 25  condition           3196 non-null   float64\n",
      " 26  0                   3196 non-null   float64\n",
      " 27  1                   3196 non-null   float64\n",
      " 28  2                   3196 non-null   float64\n",
      " 29  3                   3196 non-null   float64\n",
      " 30  4                   3196 non-null   float64\n",
      " 31  5                   3196 non-null   float64\n",
      " 32  6                   3196 non-null   float64\n",
      " 33  7                   3196 non-null   float64\n",
      " 34  8                   3196 non-null   float64\n",
      " 35  9                   3196 non-null   float64\n",
      " 36  10                  3196 non-null   float64\n",
      " 37  11                  3196 non-null   float64\n",
      " 38  12                  3196 non-null   float64\n",
      " 39  13                  3196 non-null   float64\n",
      " 40  14                  3196 non-null   float64\n",
      " 41  15                  3196 non-null   float64\n",
      " 42  16                  3196 non-null   float64\n",
      " 43  17                  3196 non-null   float64\n",
      " 44  18                  3196 non-null   float64\n",
      " 45  19                  3196 non-null   float64\n",
      " 46  20                  3196 non-null   float64\n",
      " 47  21                  3196 non-null   float64\n",
      " 48  22                  3196 non-null   float64\n",
      " 49  23                  3196 non-null   float64\n",
      " 50  24                  3196 non-null   float64\n",
      " 51  25                  3196 non-null   float64\n",
      " 52  26                  3196 non-null   float64\n",
      " 53  27                  3196 non-null   float64\n",
      " 54  28                  3196 non-null   float64\n",
      " 55  29                  3196 non-null   float64\n",
      " 56  30                  3196 non-null   float64\n",
      " 57  31                  3196 non-null   float64\n",
      " 58  32                  3196 non-null   float64\n",
      " 59  33                  3196 non-null   float64\n",
      " 60  34                  3196 non-null   float64\n",
      " 61  35                  3196 non-null   float64\n",
      " 62  36                  3196 non-null   float64\n",
      " 63  37                  3196 non-null   float64\n",
      " 64  38                  3196 non-null   float64\n",
      " 65  39                  3196 non-null   float64\n",
      " 66  40                  3196 non-null   float64\n",
      " 67  41                  3196 non-null   float64\n",
      " 68  42                  3196 non-null   float64\n",
      " 69  43                  3196 non-null   float64\n",
      " 70  44                  3196 non-null   float64\n",
      " 71  45                  3196 non-null   float64\n",
      " 72  46                  3196 non-null   float64\n",
      " 73  47                  3196 non-null   float64\n",
      " 74  48                  3196 non-null   float64\n",
      " 75  49                  3196 non-null   float64\n",
      "dtypes: float64(76)\n",
      "memory usage: 1.9 MB\n"
     ]
    }
   ],
   "source": [
    "OH_X_val."
   ]
  },
  {
   "cell_type": "code",
   "execution_count": 99,
   "id": "f74a4b7b",
   "metadata": {},
   "outputs": [
    {
     "name": "stderr",
     "output_type": "stream",
     "text": [
      "C:\\Users\\molda\\AppData\\Local\\Programs\\Python\\Python311\\Lib\\site-packages\\sklearn\\preprocessing\\_encoders.py:828: FutureWarning: `sparse` was renamed to `sparse_output` in version 1.2 and will be removed in 1.4. `sparse_output` is ignored unless you leave `sparse` to its default value.\n",
      "  warnings.warn(\n"
     ]
    },
    {
     "ename": "ValueError",
     "evalue": "Feature shape mismatch, expected: 77, got 76",
     "output_type": "error",
     "traceback": [
      "\u001b[1;31m---------------------------------------------------------------------------\u001b[0m",
      "\u001b[1;31mValueError\u001b[0m                                Traceback (most recent call last)",
      "Cell \u001b[1;32mIn[99], line 6\u001b[0m\n\u001b[0;32m      3\u001b[0m train_cols\u001b[38;5;241m.\u001b[39mindex \u001b[38;5;241m=\u001b[39m X_val\u001b[38;5;241m.\u001b[39mindex\n\u001b[0;32m      4\u001b[0m OH_X_val \u001b[38;5;241m=\u001b[39m pd\u001b[38;5;241m.\u001b[39mconcat([OH_X_val, train_cols], axis\u001b[38;5;241m=\u001b[39m\u001b[38;5;241m1\u001b[39m)\n\u001b[1;32m----> 6\u001b[0m test_pred \u001b[38;5;241m=\u001b[39m \u001b[43mmodel\u001b[49m\u001b[38;5;241;43m.\u001b[39;49m\u001b[43mpredict\u001b[49m\u001b[43m(\u001b[49m\u001b[43mOH_X_val\u001b[49m\u001b[43m)\u001b[49m\n\u001b[0;32m      7\u001b[0m test_loss \u001b[38;5;241m=\u001b[39m mape(y_val, test_pred)\n",
      "File \u001b[1;32m~\\AppData\\Local\\Programs\\Python\\Python311\\Lib\\site-packages\\xgboost\\sklearn.py:1114\u001b[0m, in \u001b[0;36mXGBModel.predict\u001b[1;34m(self, X, output_margin, ntree_limit, validate_features, base_margin, iteration_range)\u001b[0m\n\u001b[0;32m   1112\u001b[0m \u001b[38;5;28;01mif\u001b[39;00m \u001b[38;5;28mself\u001b[39m\u001b[38;5;241m.\u001b[39m_can_use_inplace_predict():\n\u001b[0;32m   1113\u001b[0m     \u001b[38;5;28;01mtry\u001b[39;00m:\n\u001b[1;32m-> 1114\u001b[0m         predts \u001b[38;5;241m=\u001b[39m \u001b[38;5;28;43mself\u001b[39;49m\u001b[38;5;241;43m.\u001b[39;49m\u001b[43mget_booster\u001b[49m\u001b[43m(\u001b[49m\u001b[43m)\u001b[49m\u001b[38;5;241;43m.\u001b[39;49m\u001b[43minplace_predict\u001b[49m\u001b[43m(\u001b[49m\n\u001b[0;32m   1115\u001b[0m \u001b[43m            \u001b[49m\u001b[43mdata\u001b[49m\u001b[38;5;241;43m=\u001b[39;49m\u001b[43mX\u001b[49m\u001b[43m,\u001b[49m\n\u001b[0;32m   1116\u001b[0m \u001b[43m            \u001b[49m\u001b[43miteration_range\u001b[49m\u001b[38;5;241;43m=\u001b[39;49m\u001b[43miteration_range\u001b[49m\u001b[43m,\u001b[49m\n\u001b[0;32m   1117\u001b[0m \u001b[43m            \u001b[49m\u001b[43mpredict_type\u001b[49m\u001b[38;5;241;43m=\u001b[39;49m\u001b[38;5;124;43m\"\u001b[39;49m\u001b[38;5;124;43mmargin\u001b[39;49m\u001b[38;5;124;43m\"\u001b[39;49m\u001b[43m \u001b[49m\u001b[38;5;28;43;01mif\u001b[39;49;00m\u001b[43m \u001b[49m\u001b[43moutput_margin\u001b[49m\u001b[43m \u001b[49m\u001b[38;5;28;43;01melse\u001b[39;49;00m\u001b[43m \u001b[49m\u001b[38;5;124;43m\"\u001b[39;49m\u001b[38;5;124;43mvalue\u001b[39;49m\u001b[38;5;124;43m\"\u001b[39;49m\u001b[43m,\u001b[49m\n\u001b[0;32m   1118\u001b[0m \u001b[43m            \u001b[49m\u001b[43mmissing\u001b[49m\u001b[38;5;241;43m=\u001b[39;49m\u001b[38;5;28;43mself\u001b[39;49m\u001b[38;5;241;43m.\u001b[39;49m\u001b[43mmissing\u001b[49m\u001b[43m,\u001b[49m\n\u001b[0;32m   1119\u001b[0m \u001b[43m            \u001b[49m\u001b[43mbase_margin\u001b[49m\u001b[38;5;241;43m=\u001b[39;49m\u001b[43mbase_margin\u001b[49m\u001b[43m,\u001b[49m\n\u001b[0;32m   1120\u001b[0m \u001b[43m            \u001b[49m\u001b[43mvalidate_features\u001b[49m\u001b[38;5;241;43m=\u001b[39;49m\u001b[43mvalidate_features\u001b[49m\u001b[43m,\u001b[49m\n\u001b[0;32m   1121\u001b[0m \u001b[43m        \u001b[49m\u001b[43m)\u001b[49m\n\u001b[0;32m   1122\u001b[0m         \u001b[38;5;28;01mif\u001b[39;00m _is_cupy_array(predts):\n\u001b[0;32m   1123\u001b[0m             \u001b[38;5;28;01mimport\u001b[39;00m \u001b[38;5;21;01mcupy\u001b[39;00m  \u001b[38;5;66;03m# pylint: disable=import-error\u001b[39;00m\n",
      "File \u001b[1;32m~\\AppData\\Local\\Programs\\Python\\Python311\\Lib\\site-packages\\xgboost\\core.py:2269\u001b[0m, in \u001b[0;36mBooster.inplace_predict\u001b[1;34m(self, data, iteration_range, predict_type, missing, validate_features, base_margin, strict_shape)\u001b[0m\n\u001b[0;32m   2265\u001b[0m         \u001b[38;5;28;01mraise\u001b[39;00m \u001b[38;5;167;01mTypeError\u001b[39;00m(\n\u001b[0;32m   2266\u001b[0m             \u001b[38;5;124m\"\u001b[39m\u001b[38;5;124m`shape` attribute is required when `validate_features` is True.\u001b[39m\u001b[38;5;124m\"\u001b[39m\n\u001b[0;32m   2267\u001b[0m         )\n\u001b[0;32m   2268\u001b[0m     \u001b[38;5;28;01mif\u001b[39;00m \u001b[38;5;28mlen\u001b[39m(data\u001b[38;5;241m.\u001b[39mshape) \u001b[38;5;241m!=\u001b[39m \u001b[38;5;241m1\u001b[39m \u001b[38;5;129;01mand\u001b[39;00m \u001b[38;5;28mself\u001b[39m\u001b[38;5;241m.\u001b[39mnum_features() \u001b[38;5;241m!=\u001b[39m data\u001b[38;5;241m.\u001b[39mshape[\u001b[38;5;241m1\u001b[39m]:\n\u001b[1;32m-> 2269\u001b[0m         \u001b[38;5;28;01mraise\u001b[39;00m \u001b[38;5;167;01mValueError\u001b[39;00m(\n\u001b[0;32m   2270\u001b[0m             \u001b[38;5;124mf\u001b[39m\u001b[38;5;124m\"\u001b[39m\u001b[38;5;124mFeature shape mismatch, expected: \u001b[39m\u001b[38;5;132;01m{\u001b[39;00m\u001b[38;5;28mself\u001b[39m\u001b[38;5;241m.\u001b[39mnum_features()\u001b[38;5;132;01m}\u001b[39;00m\u001b[38;5;124m, \u001b[39m\u001b[38;5;124m\"\u001b[39m\n\u001b[0;32m   2271\u001b[0m             \u001b[38;5;124mf\u001b[39m\u001b[38;5;124m\"\u001b[39m\u001b[38;5;124mgot \u001b[39m\u001b[38;5;132;01m{\u001b[39;00mdata\u001b[38;5;241m.\u001b[39mshape[\u001b[38;5;241m1\u001b[39m]\u001b[38;5;132;01m}\u001b[39;00m\u001b[38;5;124m\"\u001b[39m\n\u001b[0;32m   2272\u001b[0m         )\n\u001b[0;32m   2274\u001b[0m \u001b[38;5;28;01mfrom\u001b[39;00m \u001b[38;5;21;01m.\u001b[39;00m\u001b[38;5;21;01mdata\u001b[39;00m \u001b[38;5;28;01mimport\u001b[39;00m (\n\u001b[0;32m   2275\u001b[0m     _array_interface,\n\u001b[0;32m   2276\u001b[0m     _is_cudf_df,\n\u001b[1;32m   (...)\u001b[0m\n\u001b[0;32m   2279\u001b[0m     _transform_pandas_df,\n\u001b[0;32m   2280\u001b[0m )\n\u001b[0;32m   2282\u001b[0m enable_categorical \u001b[38;5;241m=\u001b[39m _has_categorical(\u001b[38;5;28mself\u001b[39m, data)\n",
      "\u001b[1;31mValueError\u001b[0m: Feature shape mismatch, expected: 77, got 76"
     ]
    }
   ],
   "source": [
    "OH_X_val = X_val.drop(cols, axis=1)\n",
    "train_cols = pd.DataFrame(OH_encoder.fit_transform(X_val[cols]))\n",
    "train_cols.index = X_val.index\n",
    "OH_X_val = pd.concat([OH_X_val, train_cols], axis=1)\n",
    "\n",
    "test_pred = model.predict(OH_X_val)\n",
    "test_loss = mape(y_val, test_pred)"
   ]
  },
  {
   "cell_type": "code",
   "execution_count": null,
   "id": "e4338b7d",
   "metadata": {},
   "outputs": [],
   "source": []
  }
 ],
 "metadata": {
  "kernelspec": {
   "display_name": "Python 3 (ipykernel)",
   "language": "python",
   "name": "python3"
  },
  "language_info": {
   "codemirror_mode": {
    "name": "ipython",
    "version": 3
   },
   "file_extension": ".py",
   "mimetype": "text/x-python",
   "name": "python",
   "nbconvert_exporter": "python",
   "pygments_lexer": "ipython3",
   "version": "3.11.2"
  }
 },
 "nbformat": 4,
 "nbformat_minor": 5
}
