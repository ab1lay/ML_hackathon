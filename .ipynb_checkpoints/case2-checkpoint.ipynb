{
 "cells": [
  {
   "cell_type": "code",
   "execution_count": 50,
   "id": "e8edeab0",
   "metadata": {},
   "outputs": [],
   "source": [
    "import pandas as pd\n",
    "import math\n",
    "import numpy as np\n",
    "from xgboost import XGBRegressor\n",
    "from sklearn.preprocessing import OneHotEncoder\n",
    "from sklearn.model_selection import cross_val_score\n",
    "\n",
    "def get_rtc(arr):\n",
    "    cnt = {}\n",
    "    res, mx = '', 0\n",
    "    for el in arr:\n",
    "        cnt[el] = cnt.get(el, 0) + 1\n",
    "        if cnt[el] > mx:\n",
    "            mx = cnt[el]\n",
    "            res = el\n",
    "    if res == 'good' or res == 'excellent':\n",
    "        return 'хорошее'\n",
    "    elif res == 'medium':\n",
    "        return 'среднее'\n",
    "    elif res == 'bad':\n",
    "        return 'требует ремонта'\n",
    "    return 'черновая отделка'\n",
    "\n",
    "conditions = {\n",
    "    'terrible' : math.e,\n",
    "    'bad' : math.e ** 2,\n",
    "    'medium' : math.e ** 6,\n",
    "    'good' : math.e ** 10, \n",
    "    'excellent': math.e ** 13\n",
    "}"
   ]
  },
  {
   "cell_type": "code",
   "execution_count": 51,
   "id": "2313c95a",
   "metadata": {},
   "outputs": [],
   "source": [
    "df = pd.read_csv('almaty.csv')\n",
    "idf = pd.read_csv('image_results.csv')"
   ]
  },
  {
   "cell_type": "code",
   "execution_count": 52,
   "id": "27ef5e03",
   "metadata": {},
   "outputs": [],
   "source": [
    "data = {}\n",
    "\n",
    "for _, row in df.iterrows():\n",
    "    rooms = idf[idf['kv_id'] == row['kv_id']]\n",
    "    if row['kv_id'] not in data.keys():\n",
    "        data[row['kv_id']] = []\n",
    "    for _, el in rooms.iterrows():\n",
    "        data[row['kv_id']].append(el['condition'])"
   ]
  },
  {
   "cell_type": "code",
   "execution_count": 53,
   "id": "8c1467f2",
   "metadata": {},
   "outputs": [],
   "source": [
    "for _, row in df.iterrows():\n",
    "    rtc = row['renovation_type_code']\n",
    "    idx = row['kv_id']\n",
    "    if not isinstance(rtc, float) or idx not in data.keys():\n",
    "        continue\n",
    "    df.at[df[df['kv_id'] == idx].index[0], 'renovation_type_code'] = get_rtc(data[idx])"
   ]
  },
  {
   "cell_type": "code",
   "execution_count": 54,
   "id": "5381d76a",
   "metadata": {},
   "outputs": [],
   "source": [
    "df['condition'] = 0\n",
    "for _, row in idf.iterrows():\n",
    "    try:\n",
    "        k = conditions[row['condition']] * row['condition_percentage'] / 100.0\n",
    "        df.at[df[df['kv_id'] == row['kv_id']].index[0], 'condition'] += k\n",
    "    except:\n",
    "        pass"
   ]
  },
  {
   "cell_type": "code",
   "execution_count": 55,
   "id": "6da330e8",
   "metadata": {},
   "outputs": [],
   "source": [
    "cols = ['toilet_type_code', 'door_type_code', 'internet_type_code', 'parking_type_code', 'floor_type_code', 'building_type_code', 'renovation_type_code', 'balcony_type_code', 'furniture_type_code', 'phone_type_code', 'district_code', 'town_code', 'area_code']\n",
    "df['is_72025'].fillna(0.0, inplace=True)\n",
    "df['is_mortgage'].fillna(0.0, inplace=True)\n",
    "df['is_installment'].fillna(0.0, inplace=True)\n",
    "df['is_pledged'].fillna(0.0, inplace=True)\n",
    "df['celling_height'].fillna(df['celling_height'].mode()[0], inplace=True)\n",
    "df['is_priv_hostel'].fillna(0.0, inplace=True)\n",
    "df['built_year'].fillna(df['built_year'].median(), inplace=True)\n",
    "df = df.drop(['microdistrict_code'], axis=1)\n",
    "df['kitchen_square_m'].fillna(df['kitchen_square_m'].mode()[0], inplace=True)\n",
    "df['floor_lvl'].fillna(df['floor_lvl'].median(), inplace=True)\n",
    "df['floor_cnt'].fillna(df['floor_cnt'].median(), inplace=True)\n",
    "df['condition'] = (df['condition'] - df['condition'].mean()) / df['condition'].std()\n",
    "\n",
    "for col in cols:\n",
    "    df[col].fillna(df[col].mode()[0], inplace=True)"
   ]
  },
  {
   "cell_type": "code",
   "execution_count": 56,
   "id": "f29dd742",
   "metadata": {},
   "outputs": [
    {
     "name": "stdout",
     "output_type": "stream",
     "text": [
      "<class 'pandas.core.frame.DataFrame'>\n",
      "RangeIndex: 21738 entries, 0 to 21737\n",
      "Data columns (total 42 columns):\n",
      " #   Column                Non-Null Count  Dtype  \n",
      "---  ------                --------------  -----  \n",
      " 0   Unnamed: 0            21738 non-null  int64  \n",
      " 1   longitude             21738 non-null  float64\n",
      " 2   latitude              21738 non-null  float64\n",
      " 3   kv_id                 21738 non-null  float64\n",
      " 4   price                 21738 non-null  float64\n",
      " 5   room_cnt              21738 non-null  float64\n",
      " 6   is_72025              21738 non-null  float64\n",
      " 7   is_mortgage           21738 non-null  float64\n",
      " 8   is_installment        21738 non-null  float64\n",
      " 9   is_pledged            21738 non-null  float64\n",
      " 10  toilet_type_code      21738 non-null  object \n",
      " 11  door_type_code        21738 non-null  object \n",
      " 12  internet_type_code    21738 non-null  object \n",
      " 13  parking_type_code     21738 non-null  object \n",
      " 14  floor_type_code       21738 non-null  object \n",
      " 15  celling_height        21738 non-null  float64\n",
      " 16  is_priv_hostel        21738 non-null  float64\n",
      " 17  building_type_code    21738 non-null  object \n",
      " 18  renovation_type_code  21738 non-null  object \n",
      " 19  built_year            21738 non-null  float64\n",
      " 20  balcony_type_code     21738 non-null  object \n",
      " 21  is_balcony_glasses    21738 non-null  float64\n",
      " 22  furniture_type_code   21738 non-null  object \n",
      " 23  phone_type_code       21738 non-null  object \n",
      " 24  town_code             21738 non-null  object \n",
      " 25  area_code             21738 non-null  object \n",
      " 26  district_code         21738 non-null  object \n",
      " 27  all_square_m          21738 non-null  float64\n",
      " 28  kitchen_square_m      21738 non-null  float64\n",
      " 29  is_intercom           21738 non-null  float64\n",
      " 30  is_video              21738 non-null  float64\n",
      " 31  is_secure             21738 non-null  float64\n",
      " 32  is_coded_lock         21738 non-null  float64\n",
      " 33  is_window_bars        21738 non-null  float64\n",
      " 34  is_video_intercom     21738 non-null  float64\n",
      " 35  is_alarm              21738 non-null  float64\n",
      " 36  is_door_man           21738 non-null  float64\n",
      " 37  floor_lvl             21738 non-null  float64\n",
      " 38  floor_cnt             21738 non-null  float64\n",
      " 39  is_rough              21738 non-null  float64\n",
      " 40  is_new_building       21738 non-null  float64\n",
      " 41  condition             21738 non-null  float64\n",
      "dtypes: float64(28), int64(1), object(13)\n",
      "memory usage: 7.0+ MB\n"
     ]
    }
   ],
   "source": [
    "df.info()"
   ]
  },
  {
   "cell_type": "code",
   "execution_count": 57,
   "id": "5c7bcd9e",
   "metadata": {},
   "outputs": [],
   "source": [
    "X = df.drop(['price', 'kv_id', 'Unnamed: 0'], axis=1)\n",
    "y = df['price']"
   ]
  },
  {
   "cell_type": "code",
   "execution_count": 58,
   "id": "4b5b3348",
   "metadata": {},
   "outputs": [
    {
     "name": "stderr",
     "output_type": "stream",
     "text": [
      "C:\\Users\\molda\\AppData\\Local\\Programs\\Python\\Python311\\Lib\\site-packages\\sklearn\\preprocessing\\_encoders.py:828: FutureWarning: `sparse` was renamed to `sparse_output` in version 1.2 and will be removed in 1.4. `sparse_output` is ignored unless you leave `sparse` to its default value.\n",
      "  warnings.warn(\n"
     ]
    }
   ],
   "source": [
    "OH_encoder = OneHotEncoder(handle_unknown='ignore', sparse=False)\n",
    "OH_X = X.drop(cols, axis=1)\n",
    "train_cols = pd.DataFrame(OH_encoder.fit_transform(X[cols]))\n",
    "train_cols.index = X.index\n",
    "OH_X = pd.concat([OH_X, train_cols], axis=1)"
   ]
  },
  {
   "cell_type": "code",
   "execution_count": 59,
   "id": "e1844727",
   "metadata": {},
   "outputs": [],
   "source": [
    "model = XGBRegressor(n_estimators=3000, learning_rate=0.05)\n",
    "scores = cross_val_score(model, OH_X, y, cv=4, scoring='neg_mean_absolute_percentage_error')"
   ]
  },
  {
   "cell_type": "code",
   "execution_count": 60,
   "id": "48cb8d42",
   "metadata": {},
   "outputs": [
    {
     "name": "stdout",
     "output_type": "stream",
     "text": [
      "[-0.10096834 -0.0876288  -0.08909642 -0.08721171]\n",
      "9.122631761978628\n"
     ]
    }
   ],
   "source": [
    "print(scores)\n",
    "print((-100 * scores).mean())"
   ]
  }
 ],
 "metadata": {
  "kernelspec": {
   "display_name": "Python 3 (ipykernel)",
   "language": "python",
   "name": "python3"
  },
  "language_info": {
   "codemirror_mode": {
    "name": "ipython",
    "version": 3
   },
   "file_extension": ".py",
   "mimetype": "text/x-python",
   "name": "python",
   "nbconvert_exporter": "python",
   "pygments_lexer": "ipython3",
   "version": "3.11.2"
  }
 },
 "nbformat": 4,
 "nbformat_minor": 5
}
