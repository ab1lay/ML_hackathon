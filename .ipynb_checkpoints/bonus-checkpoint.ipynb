{
 "cells": [
  {
   "cell_type": "code",
   "execution_count": 23,
   "id": "43a8e323",
   "metadata": {},
   "outputs": [],
   "source": [
    "import pandas as pd\n",
    "import math"
   ]
  },
  {
   "cell_type": "code",
   "execution_count": 28,
   "id": "eb721ada",
   "metadata": {},
   "outputs": [],
   "source": [
    "df = pd.read_csv('almaty.csv')\n",
    "idf = pd.read_csv('image_results.csv')"
   ]
  },
  {
   "cell_type": "code",
   "execution_count": 8,
   "id": "3bc0f739",
   "metadata": {},
   "outputs": [],
   "source": [
    "data = []\n",
    "\n",
    "for _, row in df.iterrows():\n",
    "    rooms = idf[idf['kv_id'] == row['kv_id']]\n",
    "    for _, el in rooms.iterrows():\n",
    "        data.append((el['condition'], el['condition_percentage'], row['renovation_type_code']))"
   ]
  },
  {
   "cell_type": "code",
   "execution_count": 14,
   "id": "6ec045b9",
   "metadata": {},
   "outputs": [],
   "source": [
    "score = {\n",
    "    'хорошее' : ['good', 'excellent'],\n",
    "    'среднее' : ['medium', 'good'],\n",
    "    'свободная планировка' : ['terrible', 'bad', 'medium'],\n",
    "    'требует ремонта': ['terrible', 'bad'],\n",
    "    'черновая отделка' : ['terrible']\n",
    "}\n"
   ]
  },
  {
   "cell_type": "code",
   "execution_count": 26,
   "id": "7adf93c5",
   "metadata": {},
   "outputs": [],
   "source": [
    "cnt = 0\n",
    "for entry in data:\n",
    "    room_score, confidence, apartment_score = entry\n",
    "    if confidence < 0.5:\n",
    "        continue\n",
    "    try:\n",
    "        if room_score not in score[apartment_score]:\n",
    "            cnt += 1\n",
    "    except:\n",
    "        pass"
   ]
  },
  {
   "cell_type": "code",
   "execution_count": 27,
   "id": "b5aeff1c",
   "metadata": {},
   "outputs": [
    {
     "name": "stdout",
     "output_type": "stream",
     "text": [
      "49.506830194388456\n"
     ]
    }
   ],
   "source": [
    "print((cnt / len(data)) * 100)"
   ]
  }
 ],
 "metadata": {
  "kernelspec": {
   "display_name": "Python 3 (ipykernel)",
   "language": "python",
   "name": "python3"
  },
  "language_info": {
   "codemirror_mode": {
    "name": "ipython",
    "version": 3
   },
   "file_extension": ".py",
   "mimetype": "text/x-python",
   "name": "python",
   "nbconvert_exporter": "python",
   "pygments_lexer": "ipython3",
   "version": "3.11.2"
  }
 },
 "nbformat": 4,
 "nbformat_minor": 5
}
